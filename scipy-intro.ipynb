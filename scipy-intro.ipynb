{
 "cells": [
  {
   "cell_type": "markdown",
   "metadata": {
    "slideshow": {
     "slide_type": "slide"
    }
   },
   "source": [
    "# SciPy tutorial\n",
    "\n",
    "PySS15     22-24th October 2015 - San Sebastian\n",
    "\n",
    "### Iñigo Aldazabal (inigo_aldazabal@ehu.eus)\n",
    "\n",
    "[https://github.com/iamc/PySS15-Scipy-tutorial](https://github.com/iamc/PySS15-Scipy-tutorial)"
   ]
  },
  {
   "cell_type": "markdown",
   "metadata": {
    "slideshow": {
     "slide_type": "slide"
    }
   },
   "source": [
    "# Python\n",
    "\n",
    "## Por qué mola tanto python?\n",
    "\n",
    "Similar a lo del año pasado\n",
    "\n",
    "Una parte general (general purpose), y una parte de SciComp (speed, wrapper sobre netlib)"
   ]
  },
  {
   "cell_type": "markdown",
   "metadata": {
    "slideshow": {
     "slide_type": "slide"
    }
   },
   "source": [
    "![imagen](images/scipy.png)"
   ]
  },
  {
   "cell_type": "markdown",
   "metadata": {},
   "source": [
    "## SciPy subpackages\n",
    "\n",
    "* cluster: Clustering algorithms\n",
    "* constants: Physical and mathematical constants\n",
    "* fftpack: Fast Fourier Transform routines\n",
    "* integrate: Integration and ordinary differential equation solvers\n",
    "* interpolate: Interpolation and smoothing splines\n",
    "* io: Input and Output\n",
    "* linalg: Linear algebra\n",
    "* maxentropy: Maximum entropy methods\n",
    "* ndimage: N-dimensional image processing\n",
    "* odr: Orthogonal distance regression\n",
    "* optimize: Optimization and root-finding \n",
    "* signal: Signal processing\n",
    "* sparse: Sparse matrices and associated routines\n",
    "* spatial: Spatial data structures and algorithms\n",
    "* special: Special functions\n",
    "* stats: Statistical distributions and functions\n",
    "* weave: C/C++ integration"
   ]
  },
  {
   "cell_type": "code",
   "execution_count": null,
   "metadata": {
    "collapsed": true
   },
   "outputs": [],
   "source": []
  }
 ],
 "metadata": {
  "celltoolbar": "Slideshow",
  "kernelspec": {
   "display_name": "Python 3",
   "language": "python",
   "name": "python3"
  },
  "language_info": {
   "codemirror_mode": {
    "name": "ipython",
    "version": 3
   },
   "file_extension": ".py",
   "mimetype": "text/x-python",
   "name": "python",
   "nbconvert_exporter": "python",
   "pygments_lexer": "ipython3",
   "version": "3.4.3"
  }
 },
 "nbformat": 4,
 "nbformat_minor": 0
}
